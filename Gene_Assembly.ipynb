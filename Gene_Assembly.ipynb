{
  "nbformat": 4,
  "nbformat_minor": 0,
  "metadata": {
    "colab": {
      "provenance": []
    },
    "kernelspec": {
      "name": "python3",
      "display_name": "Python 3"
    }
  },
  "cells": [
    {
      "cell_type": "code",
      "metadata": {
        "colab": {
          "base_uri": "https://localhost:8080/"
        },
        "id": "C2YHH0VgKf9H",
        "outputId": "367444bf-5efe-4e97-ce6f-59c78c810184"
      },
      "source": [
        "#Make a string\n",
        "all_str= \"TCAGCATCCA\"\n",
        "\n",
        "K = 3\n",
        "all_substr = [all_str[i: j] for i in range(len(all_str)) for j in range(i + 1, len(all_str) + 1) if len(all_str[i:j]) == K]\n",
        "print(\"All K length substrings of string are : \" + str(all_substr))\n",
        "\n",
        "#; randomly shuffle all_substr; the list of all\n",
        "\n",
        "import random\n",
        "\n",
        "random.shuffle(all_substr)\n",
        "print(all_substr)"
      ],
      "execution_count": null,
      "outputs": [
        {
          "output_type": "stream",
          "text": [
            "All K length substrings of string are : ['TCA', 'CAG', 'AGC', 'GCA', 'CAT', 'ATC', 'TCC', 'CCA']\n",
            "['GCA', 'TCA', 'TCC', 'ATC', 'CAG', 'CAT', 'CCA', 'AGC']\n"
          ],
          "name": "stdout"
        }
      ]
    },
    {
      "cell_type": "code",
      "metadata": {
        "colab": {
          "base_uri": "https://localhost:8080/"
        },
        "id": "niGTK3U2LQUL",
        "outputId": "a97f0788-80ed-41ac-b1b7-4ae64e9c8de3"
      },
      "source": [
        "print(tuple(all_substr))"
      ],
      "execution_count": null,
      "outputs": [
        {
          "output_type": "stream",
          "text": [
            "('GCA', 'TCA', 'TCC', 'ATC', 'CAG', 'CAT', 'CCA', 'AGC')\n"
          ],
          "name": "stdout"
        }
      ]
    },
    {
      "cell_type": "code",
      "metadata": {
        "colab": {
          "base_uri": "https://localhost:8080/",
          "height": 461
        },
        "id": "rWKRzoJNLj8f",
        "outputId": "01abba47-3182-4ffc-c826-762e0cfa1086"
      },
      "source": [
        "# build a directed graph in Networkx, show the graph and check for existence of an Eulerian path\n",
        "\n",
        "import networkx as nx\n",
        "euler_g = nx.DiGraph()\n",
        "import matplotlib.pyplot as plt\n",
        "\n",
        "for str in all_substr:\n",
        " tail = str[0:2]\n",
        "\n",
        "#Add nodes of tail\n",
        " euler_g.add_node(tail)\n",
        "\n",
        " head = str[-2:]\n",
        " euler_g.add_node(head)\n",
        " #Add nodes of head\n",
        " euler_g.add_node(head)\n",
        "#Connect tail with head\n",
        " euler_g.add_edge(tail,head)\n",
        "  #Describe edge properly\n",
        " edge= (tail, head)\n",
        " print (\"3-str: \",str,\"; tail: \",tail,\"; head: \",head)\n",
        "\n",
        "print(\"Edges of graph: \")\n",
        "print(euler_g.edges())\n",
        "print(\"Nodes of graph: \")\n",
        "print(euler_g.nodes())\n",
        "\n",
        "nx.draw_circular(euler_g, with_labels = True)\n",
        "plt.show()\n",
        "   # insert node head in euler_g\n",
        "\n",
        "   # insert arc (tail, head) in euler_g"
      ],
      "execution_count": null,
      "outputs": [
        {
          "output_type": "stream",
          "text": [
            "3-str:  GCA ; tail:  GC ; head:  CA\n",
            "3-str:  TCA ; tail:  TC ; head:  CA\n",
            "3-str:  TCC ; tail:  TC ; head:  CC\n",
            "3-str:  ATC ; tail:  AT ; head:  TC\n",
            "3-str:  CAG ; tail:  CA ; head:  AG\n",
            "3-str:  CAT ; tail:  CA ; head:  AT\n",
            "3-str:  CCA ; tail:  CC ; head:  CA\n",
            "3-str:  AGC ; tail:  AG ; head:  GC\n",
            "Edges of graph: \n",
            "[('GC', 'CA'), ('CA', 'AG'), ('CA', 'AT'), ('TC', 'CA'), ('TC', 'CC'), ('CC', 'CA'), ('AT', 'TC'), ('AG', 'GC')]\n",
            "Nodes of graph: \n",
            "['GC', 'CA', 'TC', 'CC', 'AT', 'AG']\n"
          ],
          "name": "stdout"
        },
        {
          "output_type": "display_data",
          "data": {
            "image/png": "[encoded data removed]",
            "text/plain": [
              "<Figure size 432x288 with 1 Axes>"
            ]
          },
          "metadata": {
            "tags": []
          }
        }
      ]
    },
    {
      "cell_type": "code",
      "metadata": {
        "colab": {
          "base_uri": "https://localhost:8080/"
        },
        "id": "bJVDmXKVLnqT",
        "outputId": "7fe280e1-0e8b-457c-879b-fa77696f7eec"
      },
      "source": [
        "#Check if graph has an Eulerian path\\n\"\n",
        "if nx.has_eulerian_path(euler_g):\n",
        " print(\"It has eulerian path\")\n",
        "else:\n",
        " print(\"No Eulerian path here, you can not get the original string\")"
      ],
      "execution_count": null,
      "outputs": [
        {
          "output_type": "stream",
          "text": [
            "It has eulerian path\n"
          ],
          "name": "stdout"
        }
      ]
    },
    {
      "cell_type": "code",
      "metadata": {
        "id": "hhzuITlhUm8O",
        "colab": {
          "base_uri": "https://localhost:8080/"
        },
        "outputId": "06bf5926-7cc5-48be-a62c-942f2fb73119"
      },
      "source": [
        "e_list = nx.eulerian_path(euler_g, source=None, keys=False)\n",
        "for i in e_list:\n",
        "   print(i)\n",
        "   str = ''.join(i)\n",
        "   tuplex = str[:1] + str[2:4]\n",
        "   print(tuplex)"
      ],
      "execution_count": null,
      "outputs": [
        {
          "output_type": "stream",
          "text": [
            "('TC', 'CC')\n",
            "TCC\n",
            "('CC', 'CA')\n",
            "CCA\n",
            "('CA', 'AT')\n",
            "CAT\n",
            "('AT', 'TC')\n",
            "ATC\n",
            "('TC', 'CA')\n",
            "TCA\n",
            "('CA', 'AG')\n",
            "CAG\n",
            "('AG', 'GC')\n",
            "AGC\n",
            "('GC', 'CA')\n",
            "GCA\n"
          ],
          "name": "stdout"
        }
      ]
    },
    {
      "cell_type": "code",
      "metadata": {
        "colab": {
          "base_uri": "https://localhost:8080/"
        },
        "id": "EOve0MjF-x9i",
        "outputId": "cd537daa-084e-44d9-bb51-017984264d26"
      },
      "source": [
        " euler_g.edges() == i"
      ],
      "execution_count": null,
      "outputs": [
        {
          "output_type": "execute_result",
          "data": {
            "text/plain": [
              "False"
            ]
          },
          "metadata": {
            "tags": []
          },
          "execution_count": 61
        }
      ]
    }
  ]
}