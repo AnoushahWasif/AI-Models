{
  "nbformat": 4,
  "nbformat_minor": 0,
  "metadata": {
    "colab": {
      "provenance": []
    },
    "kernelspec": {
      "name": "python3",
      "display_name": "Python 3"
    },
    "language_info": {
      "name": "python"
    }
  },
  "cells": [
    {
      "cell_type": "markdown",
      "source": [
        "## Importing Required Libraries"
      ],
      "metadata": {
        "id": "_GvFr2OA-HlL"
      }
    },
    {
      "cell_type": "code",
      "execution_count": null,
      "metadata": {
        "id": "9XTPluR0JX7P"
      },
      "outputs": [],
      "source": [
        "import numpy as np\n",
        "import tensorflow as tf\n",
        "from tensorflow import keras\n",
        "from sklearn.model_selection import train_test_split\n",
        "import pandas as pd"
      ]
    },
    {
      "cell_type": "markdown",
      "source": [
        "## Loading the Dataset"
      ],
      "metadata": {
        "id": "a9nNJK1z-y7L"
      }
    },
    {
      "cell_type": "code",
      "source": [
        "dataset =pd.read_csv(\"Star.csv\")"
      ],
      "metadata": {
        "id": "j5k3fnNZJfYD"
      },
      "execution_count": null,
      "outputs": []
    },
    {
      "cell_type": "code",
      "source": [
        "dataset"
      ],
      "metadata": {
        "colab": {
          "base_uri": "https://localhost:8080/",
          "height": 424
        },
        "id": "5sanlfmBJvaq",
        "outputId": "d83f8e89-639e-47a2-9254-d1f2327a8016"
      },
      "execution_count": null,
      "outputs": [
        {
          "output_type": "execute_result",
          "data": {
            "text/plain": [
              "      Vmag    Plx  e_Plx    B-V       SpType       Amag  TargetClass\n",
              "0     5.99  13.73   0.58  1.318        K5III  16.678352            0\n",
              "1     8.70   2.31   1.29 -0.045         B1II  15.518060            0\n",
              "2     5.77   5.50   1.03  0.855        G5III  14.471813            0\n",
              "3     6.72   5.26   0.74 -0.015          B7V  15.324928            1\n",
              "4     8.76  13.44   1.16  0.584          G0V  19.401997            1\n",
              "...    ...    ...    ...    ...          ...        ...          ...\n",
              "3637  7.29   3.26   0.95  1.786        K4III  14.856089            0\n",
              "3638  8.29   6.38   1.00  0.408       F2IV/V  17.314104            1\n",
              "3639  6.11   2.42   0.79  1.664  M0/M1IIICNp  13.029078            0\n",
              "3640  7.94   4.94   2.90  0.210          A5V  16.408636            1\n",
              "3641  8.81   1.87   1.23  1.176     K1/K2III  15.169209            0\n",
              "\n",
              "[3642 rows x 7 columns]"
            ],
            "text/html": [
              "\n",
              "\n",
              "  <div id=\"df-4e0d2f66-d7f5-4b14-8ed3-58b7c8425bda\">\n",
              "    <div class=\"colab-df-container\">\n",
              "      <div>\n",
              "<style scoped>\n",
              "    .dataframe tbody tr th:only-of-type {\n",
              "        vertical-align: middle;\n",
              "    }\n",
              "\n",
              "    .dataframe tbody tr th {\n",
              "        vertical-align: top;\n",
              "    }\n",
              "\n",
              "    .dataframe thead th {\n",
              "        text-align: right;\n",
              "    }\n",
              "</style>\n",
              "<table border=\"1\" class=\"dataframe\">\n",
              "  <thead>\n",
              "    <tr style=\"text-align: right;\">\n",
              "      <th></th>\n",
              "      <th>Vmag</th>\n",
              "      <th>Plx</th>\n",
              "      <th>e_Plx</th>\n",
              "      <th>B-V</th>\n",
              "      <th>SpType</th>\n",
              "      <th>Amag</th>\n",
              "      <th>TargetClass</th>\n",
              "    </tr>\n",
              "  </thead>\n",
              "  <tbody>\n",
              "    <tr>\n",
              "      <th>0</th>\n",
              "      <td>5.99</td>\n",
              "      <td>13.73</td>\n",
              "      <td>0.58</td>\n",
              "      <td>1.318</td>\n",
              "      <td>K5III</td>\n",
              "      <td>16.678352</td>\n",
              "      <td>0</td>\n",
              "    </tr>\n",
              "    <tr>\n",
              "      <th>1</th>\n",
              "      <td>8.70</td>\n",
              "      <td>2.31</td>\n",
              "      <td>1.29</td>\n",
              "      <td>-0.045</td>\n",
              "      <td>B1II</td>\n",
              "      <td>15.518060</td>\n",
              "      <td>0</td>\n",
              "    </tr>\n",
              "    <tr>\n",
              "      <th>2</th>\n",
              "      <td>5.77</td>\n",
              "      <td>5.50</td>\n",
              "      <td>1.03</td>\n",
              "      <td>0.855</td>\n",
              "      <td>G5III</td>\n",
              "      <td>14.471813</td>\n",
              "      <td>0</td>\n",
              "    </tr>\n",
              "    <tr>\n",
              "      <th>3</th>\n",
              "      <td>6.72</td>\n",
              "      <td>5.26</td>\n",
              "      <td>0.74</td>\n",
              "      <td>-0.015</td>\n",
              "      <td>B7V</td>\n",
              "      <td>15.324928</td>\n",
              "      <td>1</td>\n",
              "    </tr>\n",
              "    <tr>\n",
              "      <th>4</th>\n",
              "      <td>8.76</td>\n",
              "      <td>13.44</td>\n",
              "      <td>1.16</td>\n",
              "      <td>0.584</td>\n",
              "      <td>G0V</td>\n",
              "      <td>19.401997</td>\n",
              "      <td>1</td>\n",
              "    </tr>\n",
              "    <tr>\n",
              "      <th>...</th>\n",
              "      <td>...</td>\n",
              "      <td>...</td>\n",
              "      <td>...</td>\n",
              "      <td>...</td>\n",
              "      <td>...</td>\n",
              "      <td>...</td>\n",
              "      <td>...</td>\n",
              "    </tr>\n",
              "    <tr>\n",
              "      <th>3637</th>\n",
              "      <td>7.29</td>\n",
              "      <td>3.26</td>\n",
              "      <td>0.95</td>\n",
              "      <td>1.786</td>\n",
              "      <td>K4III</td>\n",
              "      <td>14.856089</td>\n",
              "      <td>0</td>\n",
              "    </tr>\n",
              "    <tr>\n",
              "      <th>3638</th>\n",
              "      <td>8.29</td>\n",
              "      <td>6.38</td>\n",
              "      <td>1.00</td>\n",
              "      <td>0.408</td>\n",
              "      <td>F2IV/V</td>\n",
              "      <td>17.314104</td>\n",
              "      <td>1</td>\n",
              "    </tr>\n",
              "    <tr>\n",
              "      <th>3639</th>\n",
              "      <td>6.11</td>\n",
              "      <td>2.42</td>\n",
              "      <td>0.79</td>\n",
              "      <td>1.664</td>\n",
              "      <td>M0/M1IIICNp</td>\n",
              "      <td>13.029078</td>\n",
              "      <td>0</td>\n",
              "    </tr>\n",
              "    <tr>\n",
              "      <th>3640</th>\n",
              "      <td>7.94</td>\n",
              "      <td>4.94</td>\n",
              "      <td>2.90</td>\n",
              "      <td>0.210</td>\n",
              "      <td>A5V</td>\n",
              "      <td>16.408636</td>\n",
              "      <td>1</td>\n",
              "    </tr>\n",
              "    <tr>\n",
              "      <th>3641</th>\n",
              "      <td>8.81</td>\n",
              "      <td>1.87</td>\n",
              "      <td>1.23</td>\n",
              "      <td>1.176</td>\n",
              "      <td>K1/K2III</td>\n",
              "      <td>15.169209</td>\n",
              "      <td>0</td>\n",
              "    </tr>\n",
              "  </tbody>\n",
              "</table>\n",
              "<p>3642 rows × 7 columns</p>\n",
              "</div>\n",
              "      <button class=\"colab-df-convert\" onclick=\"convertToInteractive('df-4e0d2f66-d7f5-4b14-8ed3-58b7c8425bda')\"\n",
              "              title=\"Convert this dataframe to an interactive table.\"\n",
              "              style=\"display:none;\">\n",
              "\n",
              "  <svg xmlns=\"http://www.w3.org/2000/svg\" height=\"24px\"viewBox=\"0 0 24 24\"\n",
              "       width=\"24px\">\n",
              "    <path d=\"M0 0h24v24H0V0z\" fill=\"none\"/>\n",
              "    <path d=\"M18.56 5.44l.94 2.06.94-2.06 2.06-.94-2.06-.94-.94-2.06-.94 2.06-2.06.94zm-11 1L8.5 8.5l.94-2.06 2.06-.94-2.06-.94L8.5 2.5l-.94 2.06-2.06.94zm10 10l.94 2.06.94-2.06 2.06-.94-2.06-.94-.94-2.06-.94 2.06-2.06.94z\"/><path d=\"M17.41 7.96l-1.37-1.37c-.4-.4-.92-.59-1.43-.59-.52 0-1.04.2-1.43.59L10.3 9.45l-7.72 7.72c-.78.78-.78 2.05 0 2.83L4 21.41c.39.39.9.59 1.41.59.51 0 1.02-.2 1.41-.59l7.78-7.78 2.81-2.81c.8-.78.8-2.07 0-2.86zM5.41 20L4 18.59l7.72-7.72 1.47 1.35L5.41 20z\"/>\n",
              "  </svg>\n",
              "      </button>\n",
              "\n",
              "\n",
              "\n",
              "    <div id=\"df-e966f6ee-1670-4151-bc32-f7d74011c411\">\n",
              "      <button class=\"colab-df-quickchart\" onclick=\"quickchart('df-e966f6ee-1670-4151-bc32-f7d74011c411')\"\n",
              "              title=\"Suggest charts.\"\n",
              "              style=\"display:none;\">\n",
              "\n",
              "<svg xmlns=\"http://www.w3.org/2000/svg\" height=\"24px\"viewBox=\"0 0 24 24\"\n",
              "     width=\"24px\">\n",
              "    <g>\n",
              "        <path d=\"M19 3H5c-1.1 0-2 .9-2 2v14c0 1.1.9 2 2 2h14c1.1 0 2-.9 2-2V5c0-1.1-.9-2-2-2zM9 17H7v-7h2v7zm4 0h-2V7h2v10zm4 0h-2v-4h2v4z\"/>\n",
              "    </g>\n",
              "</svg>\n",
              "      </button>\n",
              "    </div>\n",
              "\n",
              "<style>\n",
              "  .colab-df-quickchart {\n",
              "    background-color: #E8F0FE;\n",
              "    border: none;\n",
              "    border-radius: 50%;\n",
              "    cursor: pointer;\n",
              "    display: none;\n",
              "    fill: #1967D2;\n",
              "    height: 32px;\n",
              "    padding: 0 0 0 0;\n",
              "    width: 32px;\n",
              "  }\n",
              "\n",
              "  .colab-df-quickchart:hover {\n",
              "    background-color: #E2EBFA;\n",
              "    box-shadow: 0px 1px 2px rgba(60, 64, 67, 0.3), 0px 1px 3px 1px rgba(60, 64, 67, 0.15);\n",
              "    fill: #174EA6;\n",
              "  }\n",
              "\n",
              "  [theme=dark] .colab-df-quickchart {\n",
              "    background-color: #3B4455;\n",
              "    fill: #D2E3FC;\n",
              "  }\n",
              "\n",
              "  [theme=dark] .colab-df-quickchart:hover {\n",
              "    background-color: #434B5C;\n",
              "    box-shadow: 0px 1px 3px 1px rgba(0, 0, 0, 0.15);\n",
              "    filter: drop-shadow(0px 1px 2px rgba(0, 0, 0, 0.3));\n",
              "    fill: #FFFFFF;\n",
              "  }\n",
              "</style>\n",
              "\n",
              "    <script>\n",
              "      async function quickchart(key) {\n",
              "        const containerElement = document.querySelector('#' + key);\n",
              "        const charts = await google.colab.kernel.invokeFunction(\n",
              "            'suggestCharts', [key], {});\n",
              "      }\n",
              "    </script>\n",
              "\n",
              "      <script>\n",
              "\n",
              "function displayQuickchartButton(domScope) {\n",
              "  let quickchartButtonEl =\n",
              "    domScope.querySelector('#df-e966f6ee-1670-4151-bc32-f7d74011c411 button.colab-df-quickchart');\n",
              "  quickchartButtonEl.style.display =\n",
              "    google.colab.kernel.accessAllowed ? 'block' : 'none';\n",
              "}\n",
              "\n",
              "        displayQuickchartButton(document);\n",
              "      </script>\n",
              "      <style>\n",
              "    .colab-df-container {\n",
              "      display:flex;\n",
              "      flex-wrap:wrap;\n",
              "      gap: 12px;\n",
              "    }\n",
              "\n",
              "    .colab-df-convert {\n",
              "      background-color: #E8F0FE;\n",
              "      border: none;\n",
              "      border-radius: 50%;\n",
              "      cursor: pointer;\n",
              "      display: none;\n",
              "      fill: #1967D2;\n",
              "      height: 32px;\n",
              "      padding: 0 0 0 0;\n",
              "      width: 32px;\n",
              "    }\n",
              "\n",
              "    .colab-df-convert:hover {\n",
              "      background-color: #E2EBFA;\n",
              "      box-shadow: 0px 1px 2px rgba(60, 64, 67, 0.3), 0px 1px 3px 1px rgba(60, 64, 67, 0.15);\n",
              "      fill: #174EA6;\n",
              "    }\n",
              "\n",
              "    [theme=dark] .colab-df-convert {\n",
              "      background-color: #3B4455;\n",
              "      fill: #D2E3FC;\n",
              "    }\n",
              "\n",
              "    [theme=dark] .colab-df-convert:hover {\n",
              "      background-color: #434B5C;\n",
              "      box-shadow: 0px 1px 3px 1px rgba(0, 0, 0, 0.15);\n",
              "      filter: drop-shadow(0px 1px 2px rgba(0, 0, 0, 0.3));\n",
              "      fill: #FFFFFF;\n",
              "    }\n",
              "  </style>\n",
              "\n",
              "      <script>\n",
              "        const buttonEl =\n",
              "          document.querySelector('#df-4e0d2f66-d7f5-4b14-8ed3-58b7c8425bda button.colab-df-convert');\n",
              "        buttonEl.style.display =\n",
              "          google.colab.kernel.accessAllowed ? 'block' : 'none';\n",
              "\n",
              "        async function convertToInteractive(key) {\n",
              "          const element = document.querySelector('#df-4e0d2f66-d7f5-4b14-8ed3-58b7c8425bda');\n",
              "          const dataTable =\n",
              "            await google.colab.kernel.invokeFunction('convertToInteractive',\n",
              "                                                     [key], {});\n",
              "          if (!dataTable) return;\n",
              "\n",
              "          const docLinkHtml = 'Like what you see? Visit the ' +\n",
              "            '<a target=\"_blank\" href=https://colab.research.google.com/notebooks/data_table.ipynb>data table notebook</a>'\n",
              "            + ' to learn more about interactive tables.';\n",
              "          element.innerHTML = '';\n",
              "          dataTable['output_type'] = 'display_data';\n",
              "          await google.colab.output.renderOutput(dataTable, element);\n",
              "          const docLink = document.createElement('div');\n",
              "          docLink.innerHTML = docLinkHtml;\n",
              "          element.appendChild(docLink);\n",
              "        }\n",
              "      </script>\n",
              "    </div>\n",
              "  </div>\n"
            ]
          },
          "metadata": {},
          "execution_count": 60
        }
      ]
    },
    {
      "cell_type": "markdown",
      "source": [
        "## Preparing the Dataset"
      ],
      "metadata": {
        "id": "AilOI6CI_JAy"
      }
    },
    {
      "cell_type": "code",
      "source": [
        "dataset = dataset.drop('SpType', axis=1)"
      ],
      "metadata": {
        "id": "jRJyEYq3OMa8"
      },
      "execution_count": null,
      "outputs": []
    },
    {
      "cell_type": "code",
      "source": [
        "X = dataset.drop(columns=['TargetClass'])\n",
        "y = dataset['TargetClass']"
      ],
      "metadata": {
        "id": "M4lV23chJxpQ"
      },
      "execution_count": null,
      "outputs": []
    },
    {
      "cell_type": "markdown",
      "source": [
        "## Splitting dataset into Train and Test"
      ],
      "metadata": {
        "id": "Vw1oBFOL_h2B"
      }
    },
    {
      "cell_type": "code",
      "source": [
        "X_train, X_test, y_train, y_test = train_test_split(X, y, test_size=0.425, random_state=42)"
      ],
      "metadata": {
        "id": "gjkuHIevJ5Zn"
      },
      "execution_count": null,
      "outputs": []
    },
    {
      "cell_type": "markdown",
      "source": [
        "## Data Type Conversion"
      ],
      "metadata": {
        "id": "DHX2-VBx_l8D"
      }
    },
    {
      "cell_type": "code",
      "source": [
        "X_train = X_train.astype('float32')\n",
        "y_train = y_train.astype('float32')\n",
        "X_test = X_test.astype('float32')\n",
        "y_test = y_test.astype('float32')"
      ],
      "metadata": {
        "id": "lItLg8HKL3qL"
      },
      "execution_count": null,
      "outputs": []
    },
    {
      "cell_type": "markdown",
      "source": [
        "## Replacing Null Values"
      ],
      "metadata": {
        "id": "mkfwtTutAHD5"
      }
    },
    {
      "cell_type": "code",
      "source": [
        "dataset.replace('NA', np.nan, inplace=True)\n",
        "\n",
        "columns_with_na = dataset.columns[dataset.isnull().any()]\n",
        "print(\"Columns with missing values:\", columns_with_na)"
      ],
      "metadata": {
        "colab": {
          "base_uri": "https://localhost:8080/"
        },
        "id": "B-dCmm7vNIGr",
        "outputId": "60b497ed-5d4c-4416-efde-673ed4a6b275"
      },
      "execution_count": null,
      "outputs": [
        {
          "output_type": "stream",
          "name": "stdout",
          "text": [
            "Columns with missing values: Index([], dtype='object')\n"
          ]
        }
      ]
    },
    {
      "cell_type": "markdown",
      "source": [
        "## Normalization"
      ],
      "metadata": {
        "id": "srqI4VBzASbv"
      }
    },
    {
      "cell_type": "code",
      "source": [
        "X_train = (X_train - X_train.mean()) / X_train.std()\n",
        "X_test = (X_test - X_test.mean()) / X_test.std()"
      ],
      "metadata": {
        "id": "-tu2_3rfKVnc"
      },
      "execution_count": null,
      "outputs": []
    },
    {
      "cell_type": "markdown",
      "source": [
        "## Creating a Neural Network Model"
      ],
      "metadata": {
        "id": "0wnVIFhXAW-F"
      }
    },
    {
      "cell_type": "code",
      "source": [
        "model = keras.Sequential([\n",
        "    keras.layers.Dense(128, activation='relu', input_shape=(5,)),\n",
        "    keras.layers.Dense(64, activation='relu'),\n",
        "    keras.layers.Dense(1, activation='sigmoid')\n",
        "])"
      ],
      "metadata": {
        "id": "lv4h1NsOKYCn"
      },
      "execution_count": null,
      "outputs": []
    },
    {
      "cell_type": "markdown",
      "source": [
        "## Compiling the Model"
      ],
      "metadata": {
        "id": "0QhZ5qvlAbgf"
      }
    },
    {
      "cell_type": "code",
      "source": [
        "model.compile(optimizer='adam', loss='binary_crossentropy', metrics=['accuracy'])"
      ],
      "metadata": {
        "id": "MQjlbNt7KZbg"
      },
      "execution_count": null,
      "outputs": []
    },
    {
      "cell_type": "markdown",
      "source": [
        "## Training the Model"
      ],
      "metadata": {
        "id": "rgdYtf29Aej3"
      }
    },
    {
      "cell_type": "code",
      "source": [
        "history = model.fit(X_train, y_train, epochs=25, batch_size=30, validation_split=0.175)"
      ],
      "metadata": {
        "colab": {
          "base_uri": "https://localhost:8080/"
        },
        "id": "Nx0bPcBILigb",
        "outputId": "5401df03-290f-47a7-fa8a-0bfe2ce17273"
      },
      "execution_count": null,
      "outputs": [
        {
          "output_type": "stream",
          "name": "stdout",
          "text": [
            "Epoch 1/25\n",
            "58/58 [==============================] - 1s 6ms/step - loss: 0.4080 - accuracy: 0.8749 - val_loss: 0.2700 - val_accuracy: 0.9128\n",
            "Epoch 2/25\n",
            "58/58 [==============================] - 0s 3ms/step - loss: 0.2964 - accuracy: 0.8992 - val_loss: 0.2643 - val_accuracy: 0.9101\n",
            "Epoch 3/25\n",
            "58/58 [==============================] - 0s 3ms/step - loss: 0.2817 - accuracy: 0.9010 - val_loss: 0.2648 - val_accuracy: 0.9155\n",
            "Epoch 4/25\n",
            "58/58 [==============================] - 0s 2ms/step - loss: 0.2833 - accuracy: 0.9033 - val_loss: 0.2560 - val_accuracy: 0.9183\n",
            "Epoch 5/25\n",
            "58/58 [==============================] - 0s 2ms/step - loss: 0.2744 - accuracy: 0.9016 - val_loss: 0.2548 - val_accuracy: 0.9128\n",
            "Epoch 6/25\n",
            "58/58 [==============================] - 0s 3ms/step - loss: 0.2729 - accuracy: 0.9016 - val_loss: 0.2524 - val_accuracy: 0.9183\n",
            "Epoch 7/25\n",
            "58/58 [==============================] - 0s 3ms/step - loss: 0.2703 - accuracy: 0.9027 - val_loss: 0.2577 - val_accuracy: 0.9101\n",
            "Epoch 8/25\n",
            "58/58 [==============================] - 0s 2ms/step - loss: 0.2697 - accuracy: 0.9016 - val_loss: 0.2510 - val_accuracy: 0.9183\n",
            "Epoch 9/25\n",
            "58/58 [==============================] - 0s 3ms/step - loss: 0.2673 - accuracy: 0.9021 - val_loss: 0.2543 - val_accuracy: 0.9101\n",
            "Epoch 10/25\n",
            "58/58 [==============================] - 0s 3ms/step - loss: 0.2664 - accuracy: 0.9027 - val_loss: 0.2491 - val_accuracy: 0.9183\n",
            "Epoch 11/25\n",
            "58/58 [==============================] - 0s 2ms/step - loss: 0.2639 - accuracy: 0.9016 - val_loss: 0.2507 - val_accuracy: 0.9155\n",
            "Epoch 12/25\n",
            "58/58 [==============================] - 0s 2ms/step - loss: 0.2651 - accuracy: 0.9010 - val_loss: 0.2535 - val_accuracy: 0.9128\n",
            "Epoch 13/25\n",
            "58/58 [==============================] - 0s 3ms/step - loss: 0.2618 - accuracy: 0.9074 - val_loss: 0.2546 - val_accuracy: 0.9210\n",
            "Epoch 14/25\n",
            "58/58 [==============================] - 0s 3ms/step - loss: 0.2653 - accuracy: 0.9004 - val_loss: 0.2515 - val_accuracy: 0.9155\n",
            "Epoch 15/25\n",
            "58/58 [==============================] - 0s 3ms/step - loss: 0.2633 - accuracy: 0.9045 - val_loss: 0.2522 - val_accuracy: 0.9183\n",
            "Epoch 16/25\n",
            "58/58 [==============================] - 0s 3ms/step - loss: 0.2598 - accuracy: 0.9056 - val_loss: 0.2552 - val_accuracy: 0.9210\n",
            "Epoch 17/25\n",
            "58/58 [==============================] - 0s 2ms/step - loss: 0.2603 - accuracy: 0.9016 - val_loss: 0.2479 - val_accuracy: 0.9183\n",
            "Epoch 18/25\n",
            "58/58 [==============================] - 0s 2ms/step - loss: 0.2571 - accuracy: 0.9045 - val_loss: 0.2526 - val_accuracy: 0.9128\n",
            "Epoch 19/25\n",
            "58/58 [==============================] - 0s 2ms/step - loss: 0.2582 - accuracy: 0.9033 - val_loss: 0.2476 - val_accuracy: 0.9183\n",
            "Epoch 20/25\n",
            "58/58 [==============================] - 0s 3ms/step - loss: 0.2567 - accuracy: 0.9050 - val_loss: 0.2491 - val_accuracy: 0.9183\n",
            "Epoch 21/25\n",
            "58/58 [==============================] - 0s 2ms/step - loss: 0.2552 - accuracy: 0.9045 - val_loss: 0.2483 - val_accuracy: 0.9183\n",
            "Epoch 22/25\n",
            "58/58 [==============================] - 0s 2ms/step - loss: 0.2570 - accuracy: 0.9050 - val_loss: 0.2471 - val_accuracy: 0.9155\n",
            "Epoch 23/25\n",
            "58/58 [==============================] - 0s 2ms/step - loss: 0.2548 - accuracy: 0.9050 - val_loss: 0.2538 - val_accuracy: 0.9155\n",
            "Epoch 24/25\n",
            "58/58 [==============================] - 0s 3ms/step - loss: 0.2560 - accuracy: 0.9016 - val_loss: 0.2527 - val_accuracy: 0.9183\n",
            "Epoch 25/25\n",
            "58/58 [==============================] - 0s 3ms/step - loss: 0.2548 - accuracy: 0.9050 - val_loss: 0.2474 - val_accuracy: 0.9210\n"
          ]
        }
      ]
    },
    {
      "cell_type": "markdown",
      "source": [
        "## Evaluating the Model"
      ],
      "metadata": {
        "id": "q8-2gMNgAjE0"
      }
    },
    {
      "cell_type": "code",
      "source": [
        "test_loss, test_acc = model.evaluate(X_test, y_test)\n",
        "print(\"Test accuracy:\", test_acc)"
      ],
      "metadata": {
        "colab": {
          "base_uri": "https://localhost:8080/"
        },
        "id": "7INLzJb9LlQ0",
        "outputId": "2bc33f64-0ade-4367-c6a9-aee0fb138760"
      },
      "execution_count": null,
      "outputs": [
        {
          "output_type": "stream",
          "name": "stdout",
          "text": [
            "49/49 [==============================] - 0s 2ms/step - loss: 0.3085 - accuracy: 0.8857\n",
            "Test accuracy: 0.8856589198112488\n"
          ]
        }
      ]
    },
    {
      "cell_type": "code",
      "source": [
        "predictions = model.predict(X_test)"
      ],
      "metadata": {
        "colab": {
          "base_uri": "https://localhost:8080/"
        },
        "id": "n6lPii8NMN9M",
        "outputId": "08d5fa9f-36be-45ba-dba8-6f051b8b67ba"
      },
      "execution_count": null,
      "outputs": [
        {
          "output_type": "stream",
          "name": "stdout",
          "text": [
            "49/49 [==============================] - 0s 1ms/step\n"
          ]
        }
      ]
    },
    {
      "cell_type": "markdown",
      "source": [
        "## Visualizing Training Progress:"
      ],
      "metadata": {
        "id": "EommBEijApHi"
      }
    },
    {
      "cell_type": "code",
      "source": [
        "import matplotlib.pyplot as plt\n",
        "\n",
        "plt.plot(history.history['accuracy'], label='accuracy')\n",
        "plt.plot(history.history['val_accuracy'], label='val_accuracy')\n",
        "plt.xlabel('Epoch')\n",
        "plt.ylabel('Accuracy')\n",
        "plt.legend()\n",
        "plt.show()\n"
      ],
      "metadata": {
        "colab": {
          "base_uri": "https://localhost:8080/",
          "height": 449
        },
        "id": "ydDf97HIMtai",
        "outputId": "1f79b3a8-b382-4cc5-e527-2689088057e9"
      },
      "execution_count": null,
      "outputs": [
        {
          "output_type": "display_data",
          "data": {
            "text/plain": [
              "<Figure size 640x480 with 1 Axes>"
            ],
            "image/png": "[encoded data removed]"
          },
          "metadata": {}
        }
      ]
    },
    {
      "cell_type": "code",
      "source": [],
      "metadata": {
        "id": "FIXk51FHMvSW"
      },
      "execution_count": null,
      "outputs": []
    }
  ]
}