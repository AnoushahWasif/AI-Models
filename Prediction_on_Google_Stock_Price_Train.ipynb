{
  "nbformat": 4,
  "nbformat_minor": 0,
  "metadata": {
    "colab": {
      "provenance": []
    },
    "kernelspec": {
      "name": "python3",
      "display_name": "Python 3"
    },
    "language_info": {
      "name": "python"
    }
  },
  "cells": [
    {
      "cell_type": "code",
      "source": [
        "import numpy as np\n",
        "import pandas as pd\n",
        "import matplotlib.pyplot as plt\n",
        "from sklearn.preprocessing import MinMaxScaler\n",
        "from tensorflow.keras.models import Sequential\n",
        "from tensorflow.keras.layers import LSTM,Dropout,Dense"
      ],
      "metadata": {
        "id": "URvE4K0xEZpz"
      },
      "execution_count": null,
      "outputs": []
    },
    {
      "cell_type": "code",
      "source": [
        "dataset_train = pd.read_csv('Google_Stock_Price_Train.csv')\n",
        "training_set = dataset_train.iloc[:, 1:2].values\n",
        "sc = MinMaxScaler(feature_range = (0,1))\n",
        "training_set_scaled = sc.fit_transform(training_set)\n",
        "X_train =[]\n",
        "y_train =[]\n",
        "for i in range(60, 1258):\n",
        "  X_train.append(training_set_scaled[i-60:i, 0])\n",
        "  y_train.append(training_set_scaled[i, 0])"
      ],
      "metadata": {
        "id": "6TGSZUMbJdES"
      },
      "execution_count": null,
      "outputs": []
    },
    {
      "cell_type": "code",
      "source": [
        "dataset_train"
      ],
      "metadata": {
        "colab": {
          "base_uri": "https://localhost:8080/",
          "height": 424
        },
        "id": "dUEsFCDwKUNI",
        "outputId": "bf2e18cd-4980-4afe-c4f2-693b3e5f9f86"
      },
      "execution_count": null,
      "outputs": [
        {
          "output_type": "execute_result",
          "data": {
            "text/plain": [
              "            Date    Open    High     Low   Close      Volume\n",
              "0       1/3/2012  325.25  332.83  324.97  663.59   7,380,500\n",
              "1       1/4/2012  331.27  333.87  329.08  666.45   5,749,400\n",
              "2       1/5/2012  329.83  330.75  326.89  657.21   6,590,300\n",
              "3       1/6/2012  328.34  328.77  323.68  648.24   5,405,900\n",
              "4       1/9/2012  322.04  322.29  309.46  620.76  11,688,800\n",
              "...          ...     ...     ...     ...     ...         ...\n",
              "1253  12/23/2016  790.90  792.74  787.28  789.91     623,400\n",
              "1254  12/27/2016  790.68  797.86  787.66  791.55     789,100\n",
              "1255  12/28/2016  793.70  794.23  783.20  785.05   1,153,800\n",
              "1256  12/29/2016  783.33  785.93  778.92  782.79     744,300\n",
              "1257  12/30/2016  782.75  782.78  770.41  771.82   1,770,000\n",
              "\n",
              "[1258 rows x 6 columns]"
            ],
            "text/html": [
              "\n",
              "  <div id=\"df-24348837-449c-4654-b1b7-f9d7120ceff1\">\n",
              "    <div class=\"colab-df-container\">\n",
              "      <div>\n",
              "<style scoped>\n",
              "    .dataframe tbody tr th:only-of-type {\n",
              "        vertical-align: middle;\n",
              "    }\n",
              "\n",
              "    .dataframe tbody tr th {\n",
              "        vertical-align: top;\n",
              "    }\n",
              "\n",
              "    .dataframe thead th {\n",
              "        text-align: right;\n",
              "    }\n",
              "</style>\n",
              "<table border=\"1\" class=\"dataframe\">\n",
              "  <thead>\n",
              "    <tr style=\"text-align: right;\">\n",
              "      <th></th>\n",
              "      <th>Date</th>\n",
              "      <th>Open</th>\n",
              "      <th>High</th>\n",
              "      <th>Low</th>\n",
              "      <th>Close</th>\n",
              "      <th>Volume</th>\n",
              "    </tr>\n",
              "  </thead>\n",
              "  <tbody>\n",
              "    <tr>\n",
              "      <th>0</th>\n",
              "      <td>1/3/2012</td>\n",
              "      <td>325.25</td>\n",
              "      <td>332.83</td>\n",
              "      <td>324.97</td>\n",
              "      <td>663.59</td>\n",
              "      <td>7,380,500</td>\n",
              "    </tr>\n",
              "    <tr>\n",
              "      <th>1</th>\n",
              "      <td>1/4/2012</td>\n",
              "      <td>331.27</td>\n",
              "      <td>333.87</td>\n",
              "      <td>329.08</td>\n",
              "      <td>666.45</td>\n",
              "      <td>5,749,400</td>\n",
              "    </tr>\n",
              "    <tr>\n",
              "      <th>2</th>\n",
              "      <td>1/5/2012</td>\n",
              "      <td>329.83</td>\n",
              "      <td>330.75</td>\n",
              "      <td>326.89</td>\n",
              "      <td>657.21</td>\n",
              "      <td>6,590,300</td>\n",
              "    </tr>\n",
              "    <tr>\n",
              "      <th>3</th>\n",
              "      <td>1/6/2012</td>\n",
              "      <td>328.34</td>\n",
              "      <td>328.77</td>\n",
              "      <td>323.68</td>\n",
              "      <td>648.24</td>\n",
              "      <td>5,405,900</td>\n",
              "    </tr>\n",
              "    <tr>\n",
              "      <th>4</th>\n",
              "      <td>1/9/2012</td>\n",
              "      <td>322.04</td>\n",
              "      <td>322.29</td>\n",
              "      <td>309.46</td>\n",
              "      <td>620.76</td>\n",
              "      <td>11,688,800</td>\n",
              "    </tr>\n",
              "    <tr>\n",
              "      <th>...</th>\n",
              "      <td>...</td>\n",
              "      <td>...</td>\n",
              "      <td>...</td>\n",
              "      <td>...</td>\n",
              "      <td>...</td>\n",
              "      <td>...</td>\n",
              "    </tr>\n",
              "    <tr>\n",
              "      <th>1253</th>\n",
              "      <td>12/23/2016</td>\n",
              "      <td>790.90</td>\n",
              "      <td>792.74</td>\n",
              "      <td>787.28</td>\n",
              "      <td>789.91</td>\n",
              "      <td>623,400</td>\n",
              "    </tr>\n",
              "    <tr>\n",
              "      <th>1254</th>\n",
              "      <td>12/27/2016</td>\n",
              "      <td>790.68</td>\n",
              "      <td>797.86</td>\n",
              "      <td>787.66</td>\n",
              "      <td>791.55</td>\n",
              "      <td>789,100</td>\n",
              "    </tr>\n",
              "    <tr>\n",
              "      <th>1255</th>\n",
              "      <td>12/28/2016</td>\n",
              "      <td>793.70</td>\n",
              "      <td>794.23</td>\n",
              "      <td>783.20</td>\n",
              "      <td>785.05</td>\n",
              "      <td>1,153,800</td>\n",
              "    </tr>\n",
              "    <tr>\n",
              "      <th>1256</th>\n",
              "      <td>12/29/2016</td>\n",
              "      <td>783.33</td>\n",
              "      <td>785.93</td>\n",
              "      <td>778.92</td>\n",
              "      <td>782.79</td>\n",
              "      <td>744,300</td>\n",
              "    </tr>\n",
              "    <tr>\n",
              "      <th>1257</th>\n",
              "      <td>12/30/2016</td>\n",
              "      <td>782.75</td>\n",
              "      <td>782.78</td>\n",
              "      <td>770.41</td>\n",
              "      <td>771.82</td>\n",
              "      <td>1,770,000</td>\n",
              "    </tr>\n",
              "  </tbody>\n",
              "</table>\n",
              "<p>1258 rows × 6 columns</p>\n",
              "</div>\n",
              "      <button class=\"colab-df-convert\" onclick=\"convertToInteractive('df-24348837-449c-4654-b1b7-f9d7120ceff1')\"\n",
              "              title=\"Convert this dataframe to an interactive table.\"\n",
              "              style=\"display:none;\">\n",
              "        \n",
              "  <svg xmlns=\"http://www.w3.org/2000/svg\" height=\"24px\"viewBox=\"0 0 24 24\"\n",
              "       width=\"24px\">\n",
              "    <path d=\"M0 0h24v24H0V0z\" fill=\"none\"/>\n",
              "    <path d=\"M18.56 5.44l.94 2.06.94-2.06 2.06-.94-2.06-.94-.94-2.06-.94 2.06-2.06.94zm-11 1L8.5 8.5l.94-2.06 2.06-.94-2.06-.94L8.5 2.5l-.94 2.06-2.06.94zm10 10l.94 2.06.94-2.06 2.06-.94-2.06-.94-.94-2.06-.94 2.06-2.06.94z\"/><path d=\"M17.41 7.96l-1.37-1.37c-.4-.4-.92-.59-1.43-.59-.52 0-1.04.2-1.43.59L10.3 9.45l-7.72 7.72c-.78.78-.78 2.05 0 2.83L4 21.41c.39.39.9.59 1.41.59.51 0 1.02-.2 1.41-.59l7.78-7.78 2.81-2.81c.8-.78.8-2.07 0-2.86zM5.41 20L4 18.59l7.72-7.72 1.47 1.35L5.41 20z\"/>\n",
              "  </svg>\n",
              "      </button>\n",
              "      \n",
              "  <style>\n",
              "    .colab-df-container {\n",
              "      display:flex;\n",
              "      flex-wrap:wrap;\n",
              "      gap: 12px;\n",
              "    }\n",
              "\n",
              "    .colab-df-convert {\n",
              "      background-color: #E8F0FE;\n",
              "      border: none;\n",
              "      border-radius: 50%;\n",
              "      cursor: pointer;\n",
              "      display: none;\n",
              "      fill: #1967D2;\n",
              "      height: 32px;\n",
              "      padding: 0 0 0 0;\n",
              "      width: 32px;\n",
              "    }\n",
              "\n",
              "    .colab-df-convert:hover {\n",
              "      background-color: #E2EBFA;\n",
              "      box-shadow: 0px 1px 2px rgba(60, 64, 67, 0.3), 0px 1px 3px 1px rgba(60, 64, 67, 0.15);\n",
              "      fill: #174EA6;\n",
              "    }\n",
              "\n",
              "    [theme=dark] .colab-df-convert {\n",
              "      background-color: #3B4455;\n",
              "      fill: #D2E3FC;\n",
              "    }\n",
              "\n",
              "    [theme=dark] .colab-df-convert:hover {\n",
              "      background-color: #434B5C;\n",
              "      box-shadow: 0px 1px 3px 1px rgba(0, 0, 0, 0.15);\n",
              "      filter: drop-shadow(0px 1px 2px rgba(0, 0, 0, 0.3));\n",
              "      fill: #FFFFFF;\n",
              "    }\n",
              "  </style>\n",
              "\n",
              "      <script>\n",
              "        const buttonEl =\n",
              "          document.querySelector('#df-24348837-449c-4654-b1b7-f9d7120ceff1 button.colab-df-convert');\n",
              "        buttonEl.style.display =\n",
              "          google.colab.kernel.accessAllowed ? 'block' : 'none';\n",
              "\n",
              "        async function convertToInteractive(key) {\n",
              "          const element = document.querySelector('#df-24348837-449c-4654-b1b7-f9d7120ceff1');\n",
              "          const dataTable =\n",
              "            await google.colab.kernel.invokeFunction('convertToInteractive',\n",
              "                                                     [key], {});\n",
              "          if (!dataTable) return;\n",
              "\n",
              "          const docLinkHtml = 'Like what you see? Visit the ' +\n",
              "            '<a target=\"_blank\" href=https://colab.research.google.com/notebooks/data_table.ipynb>data table notebook</a>'\n",
              "            + ' to learn more about interactive tables.';\n",
              "          element.innerHTML = '';\n",
              "          dataTable['output_type'] = 'display_data';\n",
              "          await google.colab.output.renderOutput(dataTable, element);\n",
              "          const docLink = document.createElement('div');\n",
              "          docLink.innerHTML = docLinkHtml;\n",
              "          element.appendChild(docLink);\n",
              "        }\n",
              "      </script>\n",
              "    </div>\n",
              "  </div>\n",
              "  "
            ]
          },
          "metadata": {},
          "execution_count": 3
        }
      ]
    },
    {
      "cell_type": "code",
      "source": [
        "X_train, y_train = np.array(X_train), np.array(y_train)\n",
        "X_train = np.reshape(X_train, (X_train.shape[0], X_train.shape[1], 1))"
      ],
      "metadata": {
        "id": "jrsLAA1dLevW"
      },
      "execution_count": null,
      "outputs": []
    },
    {
      "cell_type": "code",
      "source": [
        "regressor = Sequential()\n",
        "regressor.add(LSTM(units = 50, return_sequences = True, input_shape = (X_train.shape[1], 1)))\n",
        "regressor.add(Dropout(0.2))\n",
        "regressor.add(LSTM(units = 50, return_sequences= True))\n",
        "regressor.add(Dropout(0.2))\n",
        "regressor.add(LSTM(units = 50, return_sequences= True))\n",
        "regressor.add(Dropout(0.2))\n",
        "regressor.add(LSTM(units = 50))\n",
        "regressor.add(Dropout(0.2))\n",
        "regressor.add(Dense(units = 1))\n",
        "regressor.compile(optimizer = 'adam', loss = 'mean_squared_error')\n",
        "print(regressor.summary())"
      ],
      "metadata": {
        "id": "YKNbIS-0NX7z",
        "colab": {
          "base_uri": "https://localhost:8080/"
        },
        "outputId": "4500daac-209c-49c0-cf83-2f9660d34561"
      },
      "execution_count": null,
      "outputs": [
        {
          "output_type": "stream",
          "name": "stdout",
          "text": [
            "Model: \"sequential\"\n",
            "_________________________________________________________________\n",
            " Layer (type)                Output Shape              Param #   \n",
            "=================================================================\n",
            " lstm (LSTM)                 (None, 60, 50)            10400     \n",
            "                                                                 \n",
            " dropout (Dropout)           (None, 60, 50)            0         \n",
            "                                                                 \n",
            " lstm_1 (LSTM)               (None, 60, 50)            20200     \n",
            "                                                                 \n",
            " dropout_1 (Dropout)         (None, 60, 50)            0         \n",
            "                                                                 \n",
            " lstm_2 (LSTM)               (None, 60, 50)            20200     \n",
            "                                                                 \n",
            " dropout_2 (Dropout)         (None, 60, 50)            0         \n",
            "                                                                 \n",
            " lstm_3 (LSTM)               (None, 50)                20200     \n",
            "                                                                 \n",
            " dropout_3 (Dropout)         (None, 50)                0         \n",
            "                                                                 \n",
            " dense (Dense)               (None, 1)                 51        \n",
            "                                                                 \n",
            "=================================================================\n",
            "Total params: 71,051\n",
            "Trainable params: 71,051\n",
            "Non-trainable params: 0\n",
            "_________________________________________________________________\n",
            "None\n"
          ]
        }
      ]
    },
    {
      "cell_type": "code",
      "source": [
        "regressor.fit(X_train, y_train, epochs = 100, batch_size= 32)"
      ],
      "metadata": {
        "colab": {
          "base_uri": "https://localhost:8080/"
        },
        "id": "yxT1eDsxMAY3",
        "outputId": "8ca1366d-f006-4954-fafc-3377f552b2ef"
      },
      "execution_count": null,
      "outputs": [
        {
          "metadata": {
            "tags": null
          },
          "name": "stdout",
          "output_type": "stream",
          "text": [
            "Epoch 1/100\n",
            "38/38 [==============================] - 16s 163ms/step - loss: 0.0429\n",
            "Epoch 2/100\n",
            "38/38 [==============================] - 6s 148ms/step - loss: 0.0064\n",
            "Epoch 3/100\n",
            "38/38 [==============================] - 5s 123ms/step - loss: 0.0056\n",
            "Epoch 4/100\n",
            "38/38 [==============================] - 5s 122ms/step - loss: 0.0052\n",
            "Epoch 5/100\n",
            "38/38 [==============================] - 5s 122ms/step - loss: 0.0048\n",
            "Epoch 6/100\n",
            "38/38 [==============================] - 5s 123ms/step - loss: 0.0045\n",
            "Epoch 7/100\n",
            "38/38 [==============================] - 5s 120ms/step - loss: 0.0048\n",
            "Epoch 8/100\n",
            "38/38 [==============================] - 5s 118ms/step - loss: 0.0047\n",
            "Epoch 9/100\n",
            "38/38 [==============================] - 5s 121ms/step - loss: 0.0046\n",
            "Epoch 10/100\n",
            "38/38 [==============================] - 5s 121ms/step - loss: 0.0049\n",
            "Epoch 11/100\n",
            "38/38 [==============================] - 5s 122ms/step - loss: 0.0039\n",
            "Epoch 12/100\n",
            "38/38 [==============================] - 4s 118ms/step - loss: 0.0043\n",
            "Epoch 13/100\n",
            "38/38 [==============================] - 4s 118ms/step - loss: 0.0040\n",
            "Epoch 14/100\n",
            "38/38 [==============================] - 5s 121ms/step - loss: 0.0038\n",
            "Epoch 15/100\n",
            "38/38 [==============================] - 5s 123ms/step - loss: 0.0043\n",
            "Epoch 16/100\n",
            "38/38 [==============================] - 5s 122ms/step - loss: 0.0037\n",
            "Epoch 17/100\n",
            "38/38 [==============================] - 5s 123ms/step - loss: 0.0032\n",
            "Epoch 18/100\n",
            "38/38 [==============================] - 7s 173ms/step - loss: 0.0036\n",
            "Epoch 19/100\n",
            "38/38 [==============================] - 10s 259ms/step - loss: 0.0037\n",
            "Epoch 20/100\n",
            "38/38 [==============================] - 7s 186ms/step - loss: 0.0040\n",
            "Epoch 21/100\n",
            "38/38 [==============================] - 5s 121ms/step - loss: 0.0034\n",
            "Epoch 22/100\n",
            "38/38 [==============================] - 5s 124ms/step - loss: 0.0032\n",
            "Epoch 23/100\n",
            "38/38 [==============================] - 5s 122ms/step - loss: 0.0031\n",
            "Epoch 24/100\n",
            "38/38 [==============================] - 5s 126ms/step - loss: 0.0032\n",
            "Epoch 25/100\n",
            "38/38 [==============================] - 5s 123ms/step - loss: 0.0032\n",
            "Epoch 26/100\n",
            "38/38 [==============================] - 5s 121ms/step - loss: 0.0033\n",
            "Epoch 27/100\n",
            "38/38 [==============================] - 5s 121ms/step - loss: 0.0030\n",
            "Epoch 28/100\n",
            "38/38 [==============================] - 5s 127ms/step - loss: 0.0037\n",
            "Epoch 29/100\n",
            "38/38 [==============================] - 5s 135ms/step - loss: 0.0033\n",
            "Epoch 30/100\n",
            "38/38 [==============================] - 5s 136ms/step - loss: 0.0033\n",
            "Epoch 31/100\n",
            "38/38 [==============================] - 5s 130ms/step - loss: 0.0030\n",
            "Epoch 32/100\n",
            "38/38 [==============================] - 5s 125ms/step - loss: 0.0034\n",
            "Epoch 33/100\n",
            "38/38 [==============================] - 5s 127ms/step - loss: 0.0028\n",
            "Epoch 34/100\n",
            "38/38 [==============================] - 5s 126ms/step - loss: 0.0028\n",
            "Epoch 35/100\n",
            "38/38 [==============================] - 5s 144ms/step - loss: 0.0031\n",
            "Epoch 36/100\n",
            "38/38 [==============================] - 5s 125ms/step - loss: 0.0027\n",
            "Epoch 37/100\n",
            "38/38 [==============================] - 5s 124ms/step - loss: 0.0028\n",
            "Epoch 38/100\n",
            "38/38 [==============================] - 5s 120ms/step - loss: 0.0028\n",
            "Epoch 39/100\n",
            "38/38 [==============================] - 5s 121ms/step - loss: 0.0030\n",
            "Epoch 40/100\n",
            "38/38 [==============================] - 6s 146ms/step - loss: 0.0025\n",
            "Epoch 41/100\n",
            "38/38 [==============================] - 5s 132ms/step - loss: 0.0025\n",
            "Epoch 42/100\n",
            "38/38 [==============================] - 5s 122ms/step - loss: 0.0028\n",
            "Epoch 43/100\n",
            "38/38 [==============================] - 6s 161ms/step - loss: 0.0024\n",
            "Epoch 44/100\n",
            "38/38 [==============================] - 5s 123ms/step - loss: 0.0027\n",
            "Epoch 45/100\n",
            "38/38 [==============================] - 5s 121ms/step - loss: 0.0022\n",
            "Epoch 46/100\n",
            "38/38 [==============================] - 5s 120ms/step - loss: 0.0024\n",
            "Epoch 47/100\n",
            "38/38 [==============================] - 5s 119ms/step - loss: 0.0023\n",
            "Epoch 48/100\n",
            "38/38 [==============================] - 5s 122ms/step - loss: 0.0023\n",
            "Epoch 49/100\n",
            "38/38 [==============================] - 5s 122ms/step - loss: 0.0026\n",
            "Epoch 50/100\n",
            "38/38 [==============================] - 5s 123ms/step - loss: 0.0023\n",
            "Epoch 51/100\n",
            "38/38 [==============================] - 5s 125ms/step - loss: 0.0023\n",
            "Epoch 52/100\n",
            "38/38 [==============================] - 5s 120ms/step - loss: 0.0022\n",
            "Epoch 53/100\n",
            "38/38 [==============================] - 5s 120ms/step - loss: 0.0024\n",
            "Epoch 54/100\n",
            "38/38 [==============================] - 5s 123ms/step - loss: 0.0021\n",
            "Epoch 55/100\n",
            "38/38 [==============================] - 5s 119ms/step - loss: 0.0022\n",
            "Epoch 56/100\n",
            "38/38 [==============================] - 5s 119ms/step - loss: 0.0023\n",
            "Epoch 57/100\n",
            "38/38 [==============================] - 5s 119ms/step - loss: 0.0022\n",
            "Epoch 58/100\n",
            "38/38 [==============================] - 4s 119ms/step - loss: 0.0021\n",
            "Epoch 59/100\n",
            "38/38 [==============================] - 4s 118ms/step - loss: 0.0023\n",
            "Epoch 60/100\n",
            "38/38 [==============================] - 4s 118ms/step - loss: 0.0022\n",
            "Epoch 61/100\n",
            "38/38 [==============================] - 5s 121ms/step - loss: 0.0024\n",
            "Epoch 62/100\n",
            "38/38 [==============================] - 5s 120ms/step - loss: 0.0020\n",
            "Epoch 63/100\n",
            "38/38 [==============================] - 4s 118ms/step - loss: 0.0022\n",
            "Epoch 64/100\n",
            "38/38 [==============================] - 4s 117ms/step - loss: 0.0025\n",
            "Epoch 65/100\n",
            "38/38 [==============================] - 5s 120ms/step - loss: 0.0021\n",
            "Epoch 66/100\n",
            "38/38 [==============================] - 5s 122ms/step - loss: 0.0018\n",
            "Epoch 67/100\n",
            "38/38 [==============================] - 5s 121ms/step - loss: 0.0020\n",
            "Epoch 68/100\n",
            "38/38 [==============================] - 5s 121ms/step - loss: 0.0020\n",
            "Epoch 69/100\n",
            "38/38 [==============================] - 5s 119ms/step - loss: 0.0019\n",
            "Epoch 70/100\n",
            "38/38 [==============================] - 5s 120ms/step - loss: 0.0018\n",
            "Epoch 71/100\n",
            "38/38 [==============================] - 4s 116ms/step - loss: 0.0018\n",
            "Epoch 72/100\n",
            "38/38 [==============================] - 5s 122ms/step - loss: 0.0019\n",
            "Epoch 73/100\n",
            "38/38 [==============================] - 5s 120ms/step - loss: 0.0017\n",
            "Epoch 74/100\n",
            "38/38 [==============================] - 5s 120ms/step - loss: 0.0020\n",
            "Epoch 75/100\n",
            "38/38 [==============================] - 6s 154ms/step - loss: 0.0018\n",
            "Epoch 76/100\n",
            "38/38 [==============================] - 5s 120ms/step - loss: 0.0017\n",
            "Epoch 77/100\n",
            "38/38 [==============================] - 5s 123ms/step - loss: 0.0018\n",
            "Epoch 78/100\n",
            "38/38 [==============================] - 5s 124ms/step - loss: 0.0018\n",
            "Epoch 79/100\n",
            "38/38 [==============================] - 5s 123ms/step - loss: 0.0019\n",
            "Epoch 80/100\n",
            "38/38 [==============================] - 5s 124ms/step - loss: 0.0016\n",
            "Epoch 81/100\n",
            "38/38 [==============================] - 5s 120ms/step - loss: 0.0016\n",
            "Epoch 82/100\n",
            "38/38 [==============================] - 5s 123ms/step - loss: 0.0017\n",
            "Epoch 83/100\n",
            "38/38 [==============================] - 5s 125ms/step - loss: 0.0015\n",
            "Epoch 84/100\n",
            "38/38 [==============================] - 5s 123ms/step - loss: 0.0016\n",
            "Epoch 85/100\n",
            "38/38 [==============================] - 5s 124ms/step - loss: 0.0016\n",
            "Epoch 86/100\n",
            "38/38 [==============================] - 6s 166ms/step - loss: 0.0015\n",
            "Epoch 87/100\n",
            "38/38 [==============================] - 5s 123ms/step - loss: 0.0017\n",
            "Epoch 88/100\n",
            "38/38 [==============================] - 7s 189ms/step - loss: 0.0018\n",
            "Epoch 89/100\n",
            "38/38 [==============================] - 5s 121ms/step - loss: 0.0016\n",
            "Epoch 90/100\n",
            "38/38 [==============================] - 5s 123ms/step - loss: 0.0017\n",
            "Epoch 91/100\n",
            "38/38 [==============================] - 5s 121ms/step - loss: 0.0015\n",
            "Epoch 92/100\n",
            "38/38 [==============================] - 8s 203ms/step - loss: 0.0016\n",
            "Epoch 93/100\n",
            "38/38 [==============================] - 7s 191ms/step - loss: 0.0015\n",
            "Epoch 94/100\n",
            "38/38 [==============================] - 5s 119ms/step - loss: 0.0016\n",
            "Epoch 95/100\n",
            "38/38 [==============================] - 5s 119ms/step - loss: 0.0015\n",
            "Epoch 96/100\n",
            "38/38 [==============================] - 5s 123ms/step - loss: 0.0014\n",
            "Epoch 97/100\n",
            "38/38 [==============================] - 5s 119ms/step - loss: 0.0014\n",
            "Epoch 98/100\n",
            "38/38 [==============================] - 6s 170ms/step - loss: 0.0016\n",
            "Epoch 99/100\n",
            "38/38 [==============================] - 4s 116ms/step - loss: 0.0015\n",
            "Epoch 100/100\n",
            "38/38 [==============================] - 5s 120ms/step - loss: 0.0013\n"
          ]
        },
        {
          "data": {
            "text/plain": [
              "<keras.callbacks.History at 0x7f940925e8b0>"
            ]
          },
          "execution_count": 6,
          "metadata": {},
          "output_type": "execute_result"
        }
      ]
    },
    {
      "cell_type": "code",
      "source": [
        "dataset_test = pd.read_csv('Google_Stock_Price_Test.csv')\n",
        "real_stock_price = dataset_test.iloc[:, 1:2].values"
      ],
      "metadata": {
        "id": "_jnz43hyNzBl"
      },
      "execution_count": null,
      "outputs": []
    },
    {
      "cell_type": "code",
      "source": [
        "dataset_total = pd.concat((dataset_train['Open'], dataset_test['Open']), axis = 0)\n",
        "inputs = dataset_total[len(dataset_total) - len(dataset_test) - 60:].values\n",
        "inputs = inputs.reshape(-1,1)\n",
        "inputs = sc.transform(inputs)\n",
        "X_test = []\n",
        "for i in range(60, 80):\n",
        "  X_test.append(inputs[i-60:i, 0])\n",
        "X_test = np.array(X_test)\n",
        "X_test = np.reshape(X_test, (X_test.shape[0], X_test.shape[1], 1))\n",
        "predicted_stock_price = regressor.predict(X_test)\n",
        "predicted_stock_price = sc.inverse_transform(predicted_stock_price)"
      ],
      "metadata": {
        "id": "8sKpglPlOstg",
        "colab": {
          "base_uri": "https://localhost:8080/"
        },
        "outputId": "6733ac8d-b8b4-4822-9010-8dd0d0871396"
      },
      "execution_count": null,
      "outputs": [
        {
          "output_type": "stream",
          "name": "stdout",
          "text": [
            "1/1 [==============================] - 2s 2s/step\n"
          ]
        }
      ]
    },
    {
      "cell_type": "code",
      "source": [
        "plt.plot(real_stock_price, color = 'red', label = 'Real Google Stock Price')\n",
        "plt.plot(predicted_stock_price, color = 'blue', label = 'Predicted Google Stock Price')\n",
        "plt.title('Google Stock Price Prediction')\n",
        "plt.xlabel('Time')\n",
        "plt.ylabel('Google Stock Price')\n",
        "plt.legend()\n",
        "plt.show()"
      ],
      "metadata": {
        "id": "hpd-5DIDP1It",
        "colab": {
          "base_uri": "https://localhost:8080/",
          "height": 295
        },
        "outputId": "69b82af6-ac37-46e7-9731-38d562970fdc"
      },
      "execution_count": null,
      "outputs": [
        {
          "output_type": "display_data",
          "data": {
            "text/plain": [
              "<Figure size 432x288 with 1 Axes>"
            ],
            "image/png": "[encoded data removed]"
          },
          "metadata": {
            "needs_background": "light"
          }
        }
      ]
    },
    {
      "cell_type": "markdown",
      "metadata": {
        "id": "b9FXIB87lby5"
      },
      "source": [
        "# 1 Perform Google’s stock price prediction for all the columns, present in the Google_Stock_Price_Train.csv  and Google_Stock_Price_Train.csv.\n",
        "\n",
        "Update the parameters so that they can converge toward the minimum of the loss function\n",
        "\n",
        "\n",
        "Change the number of training samples to minimize the difference between real and predicted values."
      ]
    },
    {
      "cell_type": "code",
      "source": [
        "import numpy as np\n",
        "import pandas as pd\n",
        "import matplotlib.pyplot as plt\n",
        "from sklearn.preprocessing import MinMaxScaler\n",
        "from tensorflow.keras.models import Sequential\n",
        "from tensorflow.keras.layers import LSTM,Dropout,Dense"
      ],
      "metadata": {
        "id": "UdwgFUX9Otwi"
      },
      "execution_count": null,
      "outputs": []
    },
    {
      "cell_type": "code",
      "source": [
        "dataset_train = pd.read_csv('Google_Stock_Price_Train.csv')\n",
        "training_set = dataset_train.iloc[:, 1:6].values"
      ],
      "metadata": {
        "id": "1Mv-p7QwO1bV"
      },
      "execution_count": null,
      "outputs": []
    },
    {
      "cell_type": "code",
      "source": [
        "\n",
        "# print(training_set)\n",
        "sc = MinMaxScaler(feature_range= (0, 1))\n",
        "training_set_scaled = sc.fit_transform(training_set)\n",
        "X_train = []\n",
        "y_train = []\n",
        "for i in range(60, 1258):\n",
        "  X_train.append(training_set_scaled[i-60:i, :])\n",
        "  y_train.append(training_set_scaled[i, :])\n",
        "X_train = np.array(X_train)\n",
        "y_train = np.array(y_train)\n",
        "X_train = np.reshape(X_train, (X_train.shape[0], X_train.shape[1], 5))\n",
        "regressor = Sequential()\n",
        "regressor.add(LSTM(units = 60, return_sequences = True, input_shape=(X_train.shape[1], 5)))\n",
        "regressor.add(Dropout (0.5))\n",
        "regressor.add(LSTM(units=60, return_sequences = True))\n",
        "regressor.add(Dropout (0.5))\n",
        "regressor.add(LSTM(units = 60, return_sequences = True))\n",
        "regressor.add(Dropout (0.5))\n",
        "regressor.add(LSTM(units=60))\n",
        "regressor.add(Dropout (0.5))\n",
        "regressor.add(Dense (units = 5))\n",
        "\n",
        "regressor.compile(optimizer = 'adam', loss = 'mean_squared_error')\n",
        "\n",
        "regressor.fit(X_train, y_train, epochs=5, batch_size = 35)"
      ],
      "metadata": {
        "id": "zQOdOpjiQtcw",
        "outputId": "f778c648-b311-4690-b0b1-3d7f95e12129",
        "colab": {
          "base_uri": "https://localhost:8080/"
        }
      },
      "execution_count": null,
      "outputs": [
        {
          "output_type": "stream",
          "name": "stdout",
          "text": [
            "Epoch 1/5\n",
            "35/35 [==============================] - 12s 133ms/step - loss: 0.0524\n",
            "Epoch 2/5\n",
            "35/35 [==============================] - 5s 135ms/step - loss: 0.0240\n",
            "Epoch 3/5\n",
            "35/35 [==============================] - 5s 136ms/step - loss: 0.0204\n",
            "Epoch 4/5\n",
            "35/35 [==============================] - 5s 134ms/step - loss: 0.0191\n",
            "Epoch 5/5\n",
            "35/35 [==============================] - 5s 135ms/step - loss: 0.0159\n"
          ]
        },
        {
          "output_type": "execute_result",
          "data": {
            "text/plain": [
              "<keras.callbacks.History at 0x7fb2d656c5b0>"
            ]
          },
          "metadata": {},
          "execution_count": 7
        }
      ]
    },
    {
      "cell_type": "code",
      "source": [
        "dataset_test = pd.read_csv('Google_Stock_Price_Test.csv')\n",
        "real_stock_price = dataset_test.iloc[:, 1:6].values\n",
        "dataset_total = pd.concat((dataset_train.iloc[:, 1:6], dataset_test.iloc[:, 1:6]), axis=0)\n",
        "inputs=dataset_total[len (dataset_total) - len(dataset_test)- 60:].values\n",
        "inputs = inputs.reshape(-1,5)\n",
        "inputs = sc.transform(inputs)\n",
        "X_test = []\n",
        "for i in range(60, 80):\n",
        "  X_test.append(inputs [i-60:i, :])\n",
        "X_test = np.array(X_test)\n",
        "X_test=np.reshape(X_test, (X_test.shape[0], X_test.shape[1], 5))\n",
        "predicted_stock_price = regressor.predict(X_test)\n",
        "predicted_stock_price = sc.inverse_transform(predicted_stock_price)\n",
        "fig, ax = plt.subplots(figsize=(12, 10))\n",
        "\n",
        "# plot the real and predicted open prices\n",
        "ax.plot(real_stock_price[:,0], linestyle='--', marker='o', color='blue', label='Real Open')\n",
        "ax.plot(predicted_stock_price[:,0], linestyle=':', marker='^', color='darkblue', label='Predicted Open')\n",
        "\n",
        "# plot the real and predicted high prices\n",
        "ax.plot(real_stock_price[:,1], linestyle='-.', marker='s', color='green', label='Real High')\n",
        "ax.plot(predicted_stock_price[:,1], linestyle='-', marker='d', color='green', label='Predicted High')\n",
        "\n",
        "# plot the real and predicted low prices\n",
        "ax.plot(real_stock_price[:,2], linestyle='--', marker='x', color='red', label='Real Low')\n",
        "ax.plot(predicted_stock_price[:,2], linestyle=':', marker='*', color='red', label='Predicted Low')\n",
        "\n",
        "# plot the real and predicted close prices\n",
        "ax.plot(real_stock_price[:,3], linestyle='-.', marker='p', color='purple', label='Real Close')\n",
        "ax.plot(predicted_stock_price[:,3], linestyle='-', marker='h', color='purple', label='Predicted Close')\n",
        "\n",
        "# plot the real and predicted close prices\n",
        "ax.plot(real_stock_price[:,4], linestyle='--', marker='+', color='pink', label='Real Close')\n",
        "ax.plot(predicted_stock_price[:,4], linestyle=':', marker='1', color='pink', label='Predicted Close')\n",
        "\n",
        "ax.set_title('Google Stock Price Prediction')\n",
        "ax.set_xlabel('Time')\n",
        "ax.set_ylabel('Google Stock Price')\n",
        "ax.legend()\n",
        "plt.show()\n"
      ],
      "metadata": {
        "id": "j-moMFKzRYzB",
        "outputId": "efec28c6-83aa-4b4e-cefe-dcb2de6538ad",
        "colab": {
          "base_uri": "https://localhost:8080/",
          "height": 638
        }
      },
      "execution_count": null,
      "outputs": [
        {
          "output_type": "stream",
          "name": "stdout",
          "text": [
            "1/1 [==============================] - 0s 42ms/step\n"
          ]
        },
        {
          "output_type": "display_data",
          "data": {
            "text/plain": [
              "<Figure size 864x720 with 1 Axes>"
            ],
            "image/png": "[encoded data removed]"
          },
          "metadata": {
            "needs_background": "light"
          }
        }
      ]
    },
    {
      "cell_type": "markdown",
      "metadata": {
        "id": "9PyZG_7IkQj1"
      },
      "source": [
        "# 2- Update the parameters so that they can converge toward the minimum of the loss function\n",
        "\n",
        ""
      ]
    },
    {
      "cell_type": "code",
      "execution_count": null,
      "metadata": {
        "id": "CnBFWd-HipA_",
        "colab": {
          "base_uri": "https://localhost:8080/"
        },
        "outputId": "b857bbee-b5c1-42b0-d8b4-b71be295d142"
      },
      "outputs": [
        {
          "output_type": "stream",
          "name": "stdout",
          "text": [
            "Model: \"sequential_1\"\n",
            "_________________________________________________________________\n",
            " Layer (type)                Output Shape              Param #   \n",
            "=================================================================\n",
            " lstm_4 (LSTM)               (None, 60, 50)            10400     \n",
            "                                                                 \n",
            " dropout_4 (Dropout)         (None, 60, 50)            0         \n",
            "                                                                 \n",
            " lstm_5 (LSTM)               (None, 60, 50)            20200     \n",
            "                                                                 \n",
            " dropout_5 (Dropout)         (None, 60, 50)            0         \n",
            "                                                                 \n",
            " lstm_6 (LSTM)               (None, 60, 50)            20200     \n",
            "                                                                 \n",
            " dropout_6 (Dropout)         (None, 60, 50)            0         \n",
            "                                                                 \n",
            " lstm_7 (LSTM)               (None, 50)                20200     \n",
            "                                                                 \n",
            " dropout_7 (Dropout)         (None, 50)                0         \n",
            "                                                                 \n",
            " dense_1 (Dense)             (None, 1)                 51        \n",
            "                                                                 \n",
            "=================================================================\n",
            "Total params: 71,051\n",
            "Trainable params: 71,051\n",
            "Non-trainable params: 0\n",
            "_________________________________________________________________\n",
            "None\n"
          ]
        }
      ],
      "source": [
        "regressor = Sequential()\n",
        "regressor.add(LSTM(units = 50, return_sequences = True, input_shape = (X_train.shape[1], 1)))\n",
        "regressor.add(Dropout(0.2))\n",
        "regressor.add(LSTM(units = 50, return_sequences= True))\n",
        "regressor.add(Dropout(0.2))\n",
        "regressor.add(LSTM(units = 50, return_sequences= True))\n",
        "regressor.add(Dropout(0.2))\n",
        "regressor.add(LSTM(units = 50))\n",
        "regressor.add(Dropout(0.2))\n",
        "regressor.add(Dense(units = 1))\n",
        "regressor.compile(optimizer = 'SGD', loss = 'mean_squared_error')\n",
        "print(regressor.summary())"
      ]
    },
    {
      "cell_type": "code",
      "execution_count": null,
      "metadata": {
        "id": "CvwwABoDlXaX",
        "colab": {
          "base_uri": "https://localhost:8080/"
        },
        "outputId": "d42c9973-0310-48a9-887b-034041444b2c"
      },
      "outputs": [
        {
          "output_type": "stream",
          "name": "stdout",
          "text": [
            "Epoch 1/100\n",
            "38/38 [==============================] - 12s 123ms/step - loss: 0.0860\n",
            "Epoch 2/100\n",
            "38/38 [==============================] - 5s 123ms/step - loss: 0.0446\n",
            "Epoch 3/100\n",
            "38/38 [==============================] - 5s 121ms/step - loss: 0.0278\n",
            "Epoch 4/100\n",
            "38/38 [==============================] - 5s 122ms/step - loss: 0.0156\n",
            "Epoch 5/100\n",
            "38/38 [==============================] - 5s 122ms/step - loss: 0.0082\n",
            "Epoch 6/100\n",
            "38/38 [==============================] - 5s 121ms/step - loss: 0.0069\n",
            "Epoch 7/100\n",
            "38/38 [==============================] - 5s 122ms/step - loss: 0.0065\n",
            "Epoch 8/100\n",
            "38/38 [==============================] - 5s 120ms/step - loss: 0.0066\n",
            "Epoch 9/100\n",
            "38/38 [==============================] - 5s 121ms/step - loss: 0.0066\n",
            "Epoch 10/100\n",
            "38/38 [==============================] - 5s 120ms/step - loss: 0.0059\n",
            "Epoch 11/100\n",
            "38/38 [==============================] - 5s 120ms/step - loss: 0.0062\n",
            "Epoch 12/100\n",
            "38/38 [==============================] - 5s 123ms/step - loss: 0.0060\n",
            "Epoch 13/100\n",
            "38/38 [==============================] - 5s 122ms/step - loss: 0.0056\n",
            "Epoch 14/100\n",
            "38/38 [==============================] - 5s 123ms/step - loss: 0.0059\n",
            "Epoch 15/100\n",
            "38/38 [==============================] - 5s 123ms/step - loss: 0.0053\n",
            "Epoch 16/100\n",
            "38/38 [==============================] - 5s 122ms/step - loss: 0.0057\n",
            "Epoch 17/100\n",
            "38/38 [==============================] - 5s 122ms/step - loss: 0.0060\n",
            "Epoch 18/100\n",
            "38/38 [==============================] - 5s 121ms/step - loss: 0.0052\n",
            "Epoch 19/100\n",
            "38/38 [==============================] - 5s 120ms/step - loss: 0.0053\n",
            "Epoch 20/100\n",
            "38/38 [==============================] - 5s 120ms/step - loss: 0.0054\n",
            "Epoch 21/100\n",
            "38/38 [==============================] - 5s 122ms/step - loss: 0.0051\n",
            "Epoch 22/100\n",
            "38/38 [==============================] - 5s 122ms/step - loss: 0.0054\n",
            "Epoch 23/100\n",
            "38/38 [==============================] - 5s 124ms/step - loss: 0.0052\n",
            "Epoch 24/100\n",
            "38/38 [==============================] - 6s 155ms/step - loss: 0.0054\n",
            "Epoch 25/100\n",
            "38/38 [==============================] - 5s 122ms/step - loss: 0.0049\n",
            "Epoch 26/100\n",
            "38/38 [==============================] - 5s 122ms/step - loss: 0.0053\n",
            "Epoch 27/100\n",
            "38/38 [==============================] - 5s 122ms/step - loss: 0.0050\n",
            "Epoch 28/100\n",
            "38/38 [==============================] - 5s 122ms/step - loss: 0.0050\n",
            "Epoch 29/100\n",
            "38/38 [==============================] - 5s 122ms/step - loss: 0.0048\n",
            "Epoch 30/100\n",
            "38/38 [==============================] - 5s 122ms/step - loss: 0.0053\n",
            "Epoch 31/100\n",
            "38/38 [==============================] - 5s 122ms/step - loss: 0.0049\n",
            "Epoch 32/100\n",
            "38/38 [==============================] - 5s 122ms/step - loss: 0.0052\n",
            "Epoch 33/100\n",
            "38/38 [==============================] - 5s 122ms/step - loss: 0.0050\n",
            "Epoch 34/100\n",
            "38/38 [==============================] - 5s 121ms/step - loss: 0.0047\n",
            "Epoch 35/100\n",
            "38/38 [==============================] - 5s 123ms/step - loss: 0.0050\n",
            "Epoch 36/100\n",
            "38/38 [==============================] - 5s 120ms/step - loss: 0.0049\n",
            "Epoch 37/100\n",
            "38/38 [==============================] - 5s 121ms/step - loss: 0.0051\n",
            "Epoch 38/100\n",
            "38/38 [==============================] - 5s 123ms/step - loss: 0.0045\n",
            "Epoch 39/100\n",
            "38/38 [==============================] - 5s 123ms/step - loss: 0.0047\n",
            "Epoch 40/100\n",
            "38/38 [==============================] - 5s 123ms/step - loss: 0.0043\n",
            "Epoch 41/100\n",
            "38/38 [==============================] - 5s 128ms/step - loss: 0.0047\n",
            "Epoch 42/100\n",
            "38/38 [==============================] - 5s 129ms/step - loss: 0.0045\n",
            "Epoch 43/100\n",
            "38/38 [==============================] - 5s 126ms/step - loss: 0.0046\n",
            "Epoch 44/100\n",
            "38/38 [==============================] - 5s 127ms/step - loss: 0.0048\n",
            "Epoch 45/100\n",
            "38/38 [==============================] - 5s 129ms/step - loss: 0.0045\n",
            "Epoch 46/100\n",
            "38/38 [==============================] - 5s 129ms/step - loss: 0.0047\n",
            "Epoch 47/100\n",
            "38/38 [==============================] - 5s 126ms/step - loss: 0.0046\n",
            "Epoch 48/100\n",
            "38/38 [==============================] - 5s 130ms/step - loss: 0.0045\n",
            "Epoch 49/100\n",
            "38/38 [==============================] - 5s 122ms/step - loss: 0.0041\n",
            "Epoch 50/100\n",
            "38/38 [==============================] - 5s 124ms/step - loss: 0.0047\n",
            "Epoch 51/100\n",
            "38/38 [==============================] - 5s 119ms/step - loss: 0.0045\n",
            "Epoch 52/100\n",
            "38/38 [==============================] - 5s 122ms/step - loss: 0.0044\n",
            "Epoch 53/100\n",
            "38/38 [==============================] - 5s 122ms/step - loss: 0.0046\n",
            "Epoch 54/100\n",
            "38/38 [==============================] - 5s 126ms/step - loss: 0.0041\n",
            "Epoch 55/100\n",
            "38/38 [==============================] - 5s 122ms/step - loss: 0.0041\n",
            "Epoch 56/100\n",
            "38/38 [==============================] - 6s 156ms/step - loss: 0.0045\n",
            "Epoch 57/100\n",
            "38/38 [==============================] - 5s 121ms/step - loss: 0.0040\n",
            "Epoch 58/100\n",
            "38/38 [==============================] - 5s 120ms/step - loss: 0.0044\n",
            "Epoch 59/100\n",
            "38/38 [==============================] - 5s 122ms/step - loss: 0.0046\n",
            "Epoch 60/100\n",
            "38/38 [==============================] - 5s 124ms/step - loss: 0.0045\n",
            "Epoch 61/100\n",
            "38/38 [==============================] - 5s 123ms/step - loss: 0.0042\n",
            "Epoch 62/100\n",
            "38/38 [==============================] - 5s 119ms/step - loss: 0.0041\n",
            "Epoch 63/100\n",
            "38/38 [==============================] - 5s 123ms/step - loss: 0.0045\n",
            "Epoch 64/100\n",
            "38/38 [==============================] - 5s 123ms/step - loss: 0.0042\n",
            "Epoch 65/100\n",
            "38/38 [==============================] - 5s 123ms/step - loss: 0.0044\n",
            "Epoch 66/100\n",
            "38/38 [==============================] - 5s 123ms/step - loss: 0.0041\n",
            "Epoch 67/100\n",
            "38/38 [==============================] - 5s 123ms/step - loss: 0.0043\n",
            "Epoch 68/100\n",
            "38/38 [==============================] - 5s 122ms/step - loss: 0.0039\n",
            "Epoch 69/100\n",
            "38/38 [==============================] - 5s 121ms/step - loss: 0.0043\n",
            "Epoch 70/100\n",
            "38/38 [==============================] - 5s 122ms/step - loss: 0.0043\n",
            "Epoch 71/100\n",
            "38/38 [==============================] - 5s 122ms/step - loss: 0.0039\n",
            "Epoch 72/100\n",
            "38/38 [==============================] - 5s 121ms/step - loss: 0.0041\n",
            "Epoch 73/100\n",
            "38/38 [==============================] - 5s 123ms/step - loss: 0.0043\n",
            "Epoch 74/100\n",
            "38/38 [==============================] - 5s 125ms/step - loss: 0.0041\n",
            "Epoch 75/100\n",
            "38/38 [==============================] - 5s 124ms/step - loss: 0.0043\n",
            "Epoch 76/100\n",
            "38/38 [==============================] - 5s 124ms/step - loss: 0.0040\n",
            "Epoch 77/100\n",
            "38/38 [==============================] - 5s 124ms/step - loss: 0.0042\n",
            "Epoch 78/100\n",
            "38/38 [==============================] - 5s 123ms/step - loss: 0.0039\n",
            "Epoch 79/100\n",
            "38/38 [==============================] - 5s 125ms/step - loss: 0.0043\n",
            "Epoch 80/100\n",
            "38/38 [==============================] - 5s 125ms/step - loss: 0.0040\n",
            "Epoch 81/100\n",
            "38/38 [==============================] - 5s 124ms/step - loss: 0.0044\n",
            "Epoch 82/100\n",
            "38/38 [==============================] - 5s 130ms/step - loss: 0.0043\n",
            "Epoch 83/100\n",
            "38/38 [==============================] - 5s 125ms/step - loss: 0.0040\n",
            "Epoch 84/100\n",
            "38/38 [==============================] - 5s 121ms/step - loss: 0.0042\n",
            "Epoch 85/100\n",
            "38/38 [==============================] - 5s 119ms/step - loss: 0.0044\n",
            "Epoch 86/100\n",
            "38/38 [==============================] - 5s 122ms/step - loss: 0.0040\n",
            "Epoch 87/100\n",
            "38/38 [==============================] - 5s 141ms/step - loss: 0.0036\n",
            "Epoch 88/100\n",
            "38/38 [==============================] - 5s 137ms/step - loss: 0.0039\n",
            "Epoch 89/100\n",
            "38/38 [==============================] - 5s 120ms/step - loss: 0.0039\n",
            "Epoch 90/100\n",
            "38/38 [==============================] - 5s 119ms/step - loss: 0.0039\n",
            "Epoch 91/100\n",
            "38/38 [==============================] - 4s 118ms/step - loss: 0.0039\n",
            "Epoch 92/100\n",
            "38/38 [==============================] - 5s 122ms/step - loss: 0.0041\n",
            "Epoch 93/100\n",
            "38/38 [==============================] - 5s 119ms/step - loss: 0.0040\n",
            "Epoch 94/100\n",
            "38/38 [==============================] - 5s 119ms/step - loss: 0.0039\n",
            "Epoch 95/100\n",
            "38/38 [==============================] - 5s 124ms/step - loss: 0.0038\n",
            "Epoch 96/100\n",
            "38/38 [==============================] - 5s 120ms/step - loss: 0.0039\n",
            "Epoch 97/100\n",
            "38/38 [==============================] - 5s 120ms/step - loss: 0.0040\n",
            "Epoch 98/100\n",
            "38/38 [==============================] - 5s 119ms/step - loss: 0.0039\n",
            "Epoch 99/100\n",
            "38/38 [==============================] - 5s 122ms/step - loss: 0.0038\n",
            "Epoch 100/100\n",
            "38/38 [==============================] - 5s 119ms/step - loss: 0.0038\n"
          ]
        },
        {
          "output_type": "execute_result",
          "data": {
            "text/plain": [
              "<keras.callbacks.History at 0x7f9405b7fca0>"
            ]
          },
          "metadata": {},
          "execution_count": 14
        }
      ],
      "source": [
        "regressor.fit(X_train, y_train, epochs = 100, batch_size= 32)"
      ]
    },
    {
      "cell_type": "code",
      "execution_count": null,
      "metadata": {
        "id": "s0QeMzGRlXau"
      },
      "outputs": [],
      "source": [
        "dataset_test = pd.read_csv('Google_Stock_Price_Test.csv')\n",
        "real_stock_price = dataset_test.iloc[:, 1:2].values"
      ]
    },
    {
      "cell_type": "code",
      "execution_count": null,
      "metadata": {
        "id": "x29O4ynolXau",
        "colab": {
          "base_uri": "https://localhost:8080/"
        },
        "outputId": "14aa6e8c-c08f-4e2a-df42-44c633a65335"
      },
      "outputs": [
        {
          "output_type": "error",
          "ename": "NotFittedError",
          "evalue": "ignored",
          "traceback": [
            "\u001b[0;31m---------------------------------------------------------------------------\u001b[0m",
            "\u001b[0;31mNotFittedError\u001b[0m                            Traceback (most recent call last)",
            "\u001b[0;32m<ipython-input-16-dc35a0a347cf>\u001b[0m in \u001b[0;36m<module>\u001b[0;34m\u001b[0m\n\u001b[1;32m      2\u001b[0m \u001b[0minputs\u001b[0m \u001b[0;34m=\u001b[0m \u001b[0mdataset_total\u001b[0m\u001b[0;34m[\u001b[0m\u001b[0mlen\u001b[0m\u001b[0;34m(\u001b[0m\u001b[0mdataset_total\u001b[0m\u001b[0;34m)\u001b[0m \u001b[0;34m-\u001b[0m \u001b[0mlen\u001b[0m\u001b[0;34m(\u001b[0m\u001b[0mdataset_test\u001b[0m\u001b[0;34m)\u001b[0m \u001b[0;34m-\u001b[0m \u001b[0;36m60\u001b[0m\u001b[0;34m:\u001b[0m\u001b[0;34m]\u001b[0m\u001b[0;34m.\u001b[0m\u001b[0mvalues\u001b[0m\u001b[0;34m\u001b[0m\u001b[0;34m\u001b[0m\u001b[0m\n\u001b[1;32m      3\u001b[0m \u001b[0minputs\u001b[0m \u001b[0;34m=\u001b[0m \u001b[0minputs\u001b[0m\u001b[0;34m.\u001b[0m\u001b[0mreshape\u001b[0m\u001b[0;34m(\u001b[0m\u001b[0;34m-\u001b[0m\u001b[0;36m1\u001b[0m\u001b[0;34m,\u001b[0m\u001b[0;36m1\u001b[0m\u001b[0;34m)\u001b[0m\u001b[0;34m\u001b[0m\u001b[0;34m\u001b[0m\u001b[0m\n\u001b[0;32m----> 4\u001b[0;31m \u001b[0minputs\u001b[0m \u001b[0;34m=\u001b[0m \u001b[0msc\u001b[0m\u001b[0;34m.\u001b[0m\u001b[0mtransform\u001b[0m\u001b[0;34m(\u001b[0m\u001b[0minputs\u001b[0m\u001b[0;34m)\u001b[0m\u001b[0;34m\u001b[0m\u001b[0;34m\u001b[0m\u001b[0m\n\u001b[0m\u001b[1;32m      5\u001b[0m \u001b[0mX_test\u001b[0m \u001b[0;34m=\u001b[0m \u001b[0;34m[\u001b[0m\u001b[0;34m]\u001b[0m\u001b[0;34m\u001b[0m\u001b[0;34m\u001b[0m\u001b[0m\n\u001b[1;32m      6\u001b[0m \u001b[0;32mfor\u001b[0m \u001b[0mi\u001b[0m \u001b[0;32min\u001b[0m \u001b[0mrange\u001b[0m\u001b[0;34m(\u001b[0m\u001b[0;36m60\u001b[0m\u001b[0;34m,\u001b[0m \u001b[0;36m80\u001b[0m\u001b[0;34m)\u001b[0m\u001b[0;34m:\u001b[0m\u001b[0;34m\u001b[0m\u001b[0;34m\u001b[0m\u001b[0m\n",
            "\u001b[0;32m/usr/local/lib/python3.8/dist-packages/sklearn/preprocessing/_data.py\u001b[0m in \u001b[0;36mtransform\u001b[0;34m(self, X)\u001b[0m\n\u001b[1;32m    492\u001b[0m             \u001b[0mTransformed\u001b[0m \u001b[0mdata\u001b[0m\u001b[0;34m.\u001b[0m\u001b[0;34m\u001b[0m\u001b[0;34m\u001b[0m\u001b[0m\n\u001b[1;32m    493\u001b[0m         \"\"\"\n\u001b[0;32m--> 494\u001b[0;31m         \u001b[0mcheck_is_fitted\u001b[0m\u001b[0;34m(\u001b[0m\u001b[0mself\u001b[0m\u001b[0;34m)\u001b[0m\u001b[0;34m\u001b[0m\u001b[0;34m\u001b[0m\u001b[0m\n\u001b[0m\u001b[1;32m    495\u001b[0m \u001b[0;34m\u001b[0m\u001b[0m\n\u001b[1;32m    496\u001b[0m         X = self._validate_data(\n",
            "\u001b[0;32m/usr/local/lib/python3.8/dist-packages/sklearn/utils/validation.py\u001b[0m in \u001b[0;36mcheck_is_fitted\u001b[0;34m(estimator, attributes, msg, all_or_any)\u001b[0m\n\u001b[1;32m   1220\u001b[0m \u001b[0;34m\u001b[0m\u001b[0m\n\u001b[1;32m   1221\u001b[0m     \u001b[0;32mif\u001b[0m \u001b[0;32mnot\u001b[0m \u001b[0mfitted\u001b[0m\u001b[0;34m:\u001b[0m\u001b[0;34m\u001b[0m\u001b[0;34m\u001b[0m\u001b[0m\n\u001b[0;32m-> 1222\u001b[0;31m         \u001b[0;32mraise\u001b[0m \u001b[0mNotFittedError\u001b[0m\u001b[0;34m(\u001b[0m\u001b[0mmsg\u001b[0m \u001b[0;34m%\u001b[0m \u001b[0;34m{\u001b[0m\u001b[0;34m\"name\"\u001b[0m\u001b[0;34m:\u001b[0m \u001b[0mtype\u001b[0m\u001b[0;34m(\u001b[0m\u001b[0mestimator\u001b[0m\u001b[0;34m)\u001b[0m\u001b[0;34m.\u001b[0m\u001b[0m__name__\u001b[0m\u001b[0;34m}\u001b[0m\u001b[0;34m)\u001b[0m\u001b[0;34m\u001b[0m\u001b[0;34m\u001b[0m\u001b[0m\n\u001b[0m\u001b[1;32m   1223\u001b[0m \u001b[0;34m\u001b[0m\u001b[0m\n\u001b[1;32m   1224\u001b[0m \u001b[0;34m\u001b[0m\u001b[0m\n",
            "\u001b[0;31mNotFittedError\u001b[0m: This MinMaxScaler instance is not fitted yet. Call 'fit' with appropriate arguments before using this estimator."
          ]
        }
      ],
      "source": [
        "dataset_total = pd.concat((dataset_train['Open'], dataset_test['Open']), axis = 0)\n",
        "inputs = dataset_total[len(dataset_total) - len(dataset_test) - 60:].values\n",
        "inputs = inputs.reshape(-1,1)\n",
        "inputs = sc.transform(inputs)\n",
        "X_test = []\n",
        "for i in range(60, 80):\n",
        "  X_test.append(inputs[i-60:i, 0])\n",
        "X_test = np.array(X_test)\n",
        "X_test = np.reshape(X_test, (X_test.shape[0], X_test.shape[1], 1))\n",
        "predicted_stock_price = regressor.predict(X_test)\n",
        "predicted_stock_price = sc.inverse_transform(predicted_stock_price)"
      ]
    },
    {
      "cell_type": "code",
      "execution_count": null,
      "metadata": {
        "id": "Az7wQW_ulXav"
      },
      "outputs": [],
      "source": [
        "plt.plot(real_stock_price, color = 'red', label = 'Real Google Stock Price')\n",
        "plt.plot(predicted_stock_price, color = 'blue', label = 'Predicted Google Stock Price')\n",
        "plt.title('Google Stock Price Prediction')\n",
        "plt.xlabel('Time')\n",
        "plt.ylabel('Google Stock Price')\n",
        "plt.legend()\n",
        "plt.show()"
      ]
    },
    {
      "cell_type": "markdown",
      "source": [
        "# 3- Change the number of training samples to minimize the difference between real and predicted values."
      ],
      "metadata": {
        "id": "WEzDBfoklnIs"
      }
    },
    {
      "cell_type": "code",
      "source": [
        "dataset_train = pd.read_csv('Google_Stock_Price_Train.csv')\n",
        "training_set = dataset_train.iloc[:, 1:2].values\n",
        "sc = MinMaxScaler(feature_range = (0,1))\n",
        "training_set_scaled = sc.fit_transform(training_set)\n",
        "X_train =[]\n",
        "y_train =[]\n",
        "for i in range(150, 1258):\n",
        "  X_train.append(training_set_scaled[i-150:i, 0])\n",
        "  y_train.append(training_set_scaled[i, 0])"
      ],
      "metadata": {
        "id": "TZzCOL-dl7Sn"
      },
      "execution_count": null,
      "outputs": []
    },
    {
      "cell_type": "code",
      "source": [
        "dataset_train"
      ],
      "metadata": {
        "id": "GvGZzlFzl7So"
      },
      "execution_count": null,
      "outputs": []
    },
    {
      "cell_type": "code",
      "source": [
        "X_train, y_train = np.array(X_train), np.array(y_train)\n",
        "X_train = np.reshape(X_train, (X_train.shape[0], X_train.shape[1], 1))"
      ],
      "metadata": {
        "id": "TuFneE8Wlyq6"
      },
      "execution_count": null,
      "outputs": []
    },
    {
      "cell_type": "code",
      "source": [
        "regressor = Sequential()\n",
        "regressor.add(LSTM(units = 50, return_sequences = True, input_shape = (X_train.shape[1], 1)))\n",
        "regressor.add(Dropout(0.2))\n",
        "regressor.add(LSTM(units = 50, return_sequences= True))\n",
        "regressor.add(Dropout(0.2))\n",
        "regressor.add(LSTM(units = 50, return_sequences= True))\n",
        "regressor.add(Dropout(0.2))\n",
        "regressor.add(LSTM(units = 50))\n",
        "regressor.add(Dropout(0.2))\n",
        "regressor.add(Dense(units = 1))\n",
        "regressor.compile(optimizer = 'adam', loss = 'mean_squared_error')\n",
        "print(regressor.summary())"
      ],
      "metadata": {
        "id": "M67zGLXWlyq6"
      },
      "execution_count": null,
      "outputs": []
    },
    {
      "cell_type": "code",
      "source": [
        "regressor.fit(X_train, y_train, epochs = 150, batch_size= 32)"
      ],
      "metadata": {
        "id": "QOPIx91vlyq7"
      },
      "execution_count": null,
      "outputs": []
    },
    {
      "cell_type": "code",
      "execution_count": null,
      "metadata": {
        "id": "7X4HlspIrxNY"
      },
      "outputs": [],
      "source": [
        "dataset_total = pd.concat((dataset_train['Open'], dataset_test['Open']), axis = 0)\n",
        "inputs = dataset_total[len(dataset_total) - len(dataset_test) - 60:].values\n",
        "inputs = inputs.reshape(-1,1)\n",
        "inputs = sc.transform(inputs)\n",
        "X_test = []\n",
        "for i in range(60, 80):\n",
        "  X_test.append(inputs[i-60:i, 0])\n",
        "X_test = np.array(X_test)\n",
        "X_test = np.reshape(X_test, (X_test.shape[0], X_test.shape[1], 1))\n",
        "predicted_stock_price = regressor.predict(X_test)\n",
        "predicted_stock_price = sc.inverse_transform(predicted_stock_price)"
      ]
    },
    {
      "cell_type": "code",
      "execution_count": null,
      "metadata": {
        "id": "sJiJGrNxrxNa"
      },
      "outputs": [],
      "source": [
        "plt.plot(real_stock_price, color = 'red', label = 'Real Google Stock Price')\n",
        "plt.plot(predicted_stock_price, color = 'blue', label = 'Predicted Google Stock Price')\n",
        "plt.title('Google Stock Price Prediction')\n",
        "plt.xlabel('Time')\n",
        "plt.ylabel('Google Stock Price')\n",
        "plt.legend()\n",
        "plt.show()"
      ]
    }
  ]
}